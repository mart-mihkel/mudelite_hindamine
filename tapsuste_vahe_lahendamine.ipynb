{
 "cells": [
  {
   "cell_type": "markdown",
   "id": "c46b95bb",
   "metadata": {},
   "source": [
    "## Täpsuste vahe lähendamine\n",
    "\n",
    "Täpsuse jaoks on võrrandi \\eqref{eq:saagis vahe tähistega} analoogi tuletamine keeruline, sest täpsuste vahe lähendis on summa liikmed mittesõltumatud. \n",
    "Üheks võimalikuks lahenduseks täpsuse hindamisel on kahesammuline lähenemine, kus hinnatakse esmalt lähendi \\eqref{eq:täpsus vahe lähend kole} dispersiooni funktsioonina valikumeetodi abil saadud $S$ elememndilisest valimist (kahe keskmise vahe) ning seejärel lähendatakse selle optimeeritud esitust \\eqref{eq:täpsus vahe lähend} veelgi väiksema $K$-elemendilise juhuvalimiga.\n",
    "Kuna saadud lahendus ei ole elegantne ning kõik sammud iseseisvalt on analoogsed peatükis \\ref{section:kvaliteedimõõtude veahinnangud} saadud tulemustega, siis ei ole seda antud töös pikemalt käsitletud."
   ]
  }
 ],
 "metadata": {
  "kernelspec": {
   "display_name": "Python 3 (ipykernel)",
   "language": "python",
   "name": "python3"
  },
  "language_info": {
   "codemirror_mode": {
    "name": "ipython",
    "version": 3
   },
   "file_extension": ".py",
   "mimetype": "text/x-python",
   "name": "python",
   "nbconvert_exporter": "python",
   "pygments_lexer": "ipython3",
   "version": "3.8.16"
  }
 },
 "nbformat": 4,
 "nbformat_minor": 5
}
