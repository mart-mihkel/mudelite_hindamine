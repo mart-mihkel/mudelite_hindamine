{
 "cells": [
  {
   "cell_type": "markdown",
   "id": "42989bad",
   "metadata": {},
   "source": [
    "$\\DeclareMathOperator*{\\MEAN}{\\mathbf{E}}$\n",
    "$\\DeclareMathOperator*{\\VARIANCE}{\\mathbf{D}}$\n",
    "$\\newcommand{\\mean}[1]{\\MEAN\\left[#1\\right]}$\n",
    "$\\newcommand{\\variance}[1]{\\VARIANCE\\left[#1\\right]}$\n",
    "$\\newcommand{\\prob}[1]{\\Pr\\left[#1\\right]}$\n",
    "$\\newcommand{\\accuracy}{Acc}$\n",
    "$\\newcommand{\\precision}{Prec}$\n",
    "$\\newcommand{\\recall}{Rec}$"
   ]
  },
  {
   "cell_type": "markdown",
   "id": "3c83877f",
   "metadata": {},
   "source": [
    "## Õigsuse lähend\n",
    "\n",
    "Õigsuse, täpsuse ja saagise puhul osutub nende kõigi analüüs analoogseks.\n",
    "Samas on õigsuse uurimine tehniliselt kõige lihtsam, sest definitsiooni järgi ei sisalda see tinglikku jaotust.\n",
    "Seetõttu on antud töös õigsust uuritud esimesena.\n",
    " \n",
    "Meetodi rakendamise tulemust valimi $i$-ndal andmepunktil saab tõlgendada kui Bernoulli katset ehk Bernoulli jaotusega juhuslikku suurust $Z_i=[a_i=y_i]$, mille võimlalikud väärtused on $1$ ja $0$ vastavalt õige ning vale klassifikatsiooni korral.\n",
    "Meetodi tegelik õigsus $\\accuracy$ määrab juhusliku valimi korral iga katse õnnestumise tulemuse\n",
    "\\begin{equation*}\n",
    "    \\accuracy=\\mean{A=Y}=0\\cdot\\prob{A\\neq Y}+1\\cdot\\prob{A=Y}=\\prob{a_i=y_i} \\enspace.\n",
    "\\end{equation*}\n",
    "\n",
    "Lähtudes eelnevast on meetodi õigsus lähendatav statistilise tõenäosusena üle $N$ andmepunkti suuruse valimi\n",
    "\\begin{equation}\n",
    "    \\label{eq:õigsus lähend}\n",
    "    \\widehat{\\accuracy}=\\frac{1}{N}\\cdot\\sum^{N}_{i = 1}Z_i=\\frac{1}{N}\\cdot\\sum^{N}_{i = 1}[a_i=y_i] \\enspace.\n",
    "\\end{equation}\n",
    "Kasutades keskväärtuse, dispersiooni ja Bernoulli jaotuse omadusi saab leida õigsuse lähendi keskväärtuse ning dispersiooni\n",
    "\\begin{align*}\n",
    "    \\mean{\\widehat{\\accuracy}}&=\\frac{1}{N}\\cdot\\mean{\\sum^{N}_{i=1}Z_i}=\\frac{1}{N}\\cdot N\\cdot \\accuracy=\\accuracy \\enspace, \\\\\n",
    "    \\variance{\\widehat{\\accuracy}}&=\\frac{1}{N^2}\\cdot\\variance{\\sum^{N}_{i=1}Z_i}=\\frac{1}{N}\\cdot \\accuracy\\cdot(1-\\accuracy) \\enspace.\n",
    "\\end{align*}\n",
    "\n",
    "Kuna suurus $\\widehat{\\accuracy}$ on ligikaudne väärtus tegelikust õigsusest, on otstarbekas valida piisavalt suur valim, et lähendi absoluutne viga $\\Delta\\accuracy=\\widehat{\\accuracy}-\\accuracy$ oleks üle valimi küllaltki suure tõenäosusega absoluutväärtuselt võimalikult väike."
   ]
  }
 ],
 "metadata": {
  "kernelspec": {
   "display_name": "Python 3 (ipykernel)",
   "language": "python",
   "name": "python3"
  },
  "language_info": {
   "codemirror_mode": {
    "name": "ipython",
    "version": 3
   },
   "file_extension": ".py",
   "mimetype": "text/x-python",
   "name": "python",
   "nbconvert_exporter": "python",
   "pygments_lexer": "ipython3",
   "version": "3.8.16"
  }
 },
 "nbformat": 4,
 "nbformat_minor": 5
}
