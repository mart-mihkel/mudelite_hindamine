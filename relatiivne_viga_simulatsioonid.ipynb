{
 "cells": [
  {
   "cell_type": "code",
   "execution_count": 1,
   "id": "9e39fe3f",
   "metadata": {},
   "outputs": [],
   "source": [
    "import numpy as np\n",
    "import pandas as pd\n",
    "from scipy.stats import norm\n",
    "from plotnine import ggplot, aes, geom_histogram"
   ]
  },
  {
   "cell_type": "markdown",
   "id": "0080953e",
   "metadata": {},
   "source": [
    "$\\DeclareMathOperator*{\\MEAN}{\\mathbf{E}}$\n",
    "$\\DeclareMathOperator*{\\VARIANCE}{\\mathbf{D}}$\n",
    "$\\newcommand{\\mean}[1]{\\MEAN\\left[#1\\right]}$\n",
    "$\\newcommand{\\variance}[1]{\\VARIANCE\\left[#1\\right]}$\n",
    "$\\newcommand{\\prob}[1]{\\Pr\\left[#1\\right]}$\n",
    "\n",
    "## Relatiivse vea korrutise omadus\n",
    "\n",
    "Mõnikord võib lähendatav suurus olla leitav ligikaudsete arvude korrutisena.\n",
    "Näiteks riskülikukujulise põranda pindala leidmiseks peab korrutama põranda laiuse ja pikkuse, mis mõõtemääramatuse või vigase mõõteriista tõttu ei pruugi olla täpsed.\n",
    "\n",
    "Olgu $x=x_0+\\varepsilon_x$ ning $y=y_0+\\varepsilon_y$, kus $\\varepsilon_x\\sim\\mathcal{N}(0, \\sigma_x)$ ja $\\varepsilon_x\\sim\\mathcal{N}(0, \\sigma_y)$ on sõltumatud.\n",
    "Suuruste $X$ ja $Y$ korrutise relatiivne viga avaldub kujul\n",
    "\\begin{align*}\n",
    "    \\delta&=\\frac{x\\cdot y-x_0\\cdot y_0}{x_0\\cdot y_0}=\\frac{(x_0+\\varepsilon_x)\\cdot(y_0+\\varepsilon_y)-x_0\\cdot y_0}{x_0\\cdot y_0} \\\\\n",
    "    &=\\frac{x_0\\cdot\\varepsilon_y+y_0\\cdot\\varepsilon_x+\\varepsilon_x\\cdot\\varepsilon_y}{x_0\\cdot y_0}=\\frac{\\varepsilon_y}{y_0}+\\frac{\\varepsilon_x}{x_0}+\\frac{\\varepsilon_x}{x_0}\\cdot\\frac{\\varepsilon_y}{y_0} \\enspace.\n",
    "\\end{align*}\n",
    "Vigade $\\varepsilon_x$ ja $\\varepsilon_y$ sõltumatuse tõttu on $\\delta$ keskväärtus null.\n",
    "Arvestades eelnevat saab tuletada korrutise relatiivse vea dispersiooni\n",
    "\\begin{align}\n",
    "    \\variance{\\delta}&=\\mean{\\left(\\frac{\\varepsilon_y}{y_0}\\right)^2 + \\left(\\frac{\\varepsilon_x}{x_0}\\right)^2 + \\left(\\frac{\\varepsilon_x}{x_0}\\cdot\\frac{\\varepsilon_y}{y_0}\\right)^2 + 2\\cdot\\frac{\\varepsilon_x\\cdot\\varepsilon_y}{x_0\\cdot y_0} + 2\\cdot\\frac{\\varepsilon_x^2\\cdot\\varepsilon_y}{x_0^2\\cdot y_0} + 2\\cdot\\frac{\\varepsilon_x\\cdot\\varepsilon_y^2}{x_0\\cdot y_0^2}}\\nonumber\\\\\n",
    "    &=\\mean{\\left(\\frac{\\varepsilon_y}{y_0}\\right)^2+\\left(\\frac{\\varepsilon_x}{x_0}\\right)^2+\\left(\\frac{\\varepsilon_x}{x_0}\\cdot\\frac{\\varepsilon_y}{y_0}\\right)^2} \\nonumber\\\\\n",
    "    &=\\variance{\\frac{\\varepsilon_y}{y_0}}+\\variance{\\frac{\\varepsilon_x}{x_0}} +\\variance{\\frac{\\varepsilon_y}{y_0}}\\cdot\\variance{\\frac{\\varepsilon_x}{x_0}}\\approx\\variance{\\frac{\\varepsilon_y}{y_0}}+\\variance{\\frac{\\varepsilon_x}{x_0}} \\enspace. \\label{eq:korrutise relatiivne viga disperisoon}\n",
    "\\end{align}"
   ]
  },
  {
   "cell_type": "code",
   "execution_count": 4,
   "id": "38c8c429",
   "metadata": {},
   "outputs": [
    {
     "data": {
      "text/plain": [
       "0.00011596781193259909"
      ]
     },
     "execution_count": 4,
     "metadata": {},
     "output_type": "execute_result"
    }
   ],
   "source": [
    "n = 100\n",
    "x_0 = 0.7\n",
    "y_0 = 0.8\n",
    "\n",
    "sigma_x = np.sqrt((1 - x_0) * x_0 / n)  # indikaatorkeskmise absoluutse vea stdandardhälve\n",
    "epsilon_x = norm.rvs(0, sigma_x, 100)\n",
    "\n",
    "sigma_y = np.sqrt((1 - y_0) * y_0 / n)\n",
    "epsilon_y = norm.rvs(0, sigma_y, 100)\n",
    "\n",
    "x = x_0 + epsilon_x\n",
    "y = y_0 + epsilon_y\n",
    "\n",
    "rel_x = x / x_0 - 1\n",
    "rel_y = y / y_0 - 1\n",
    "\n",
    "täpne_delta = rel_x + rel_y + rel_x * rel_y\n",
    "umbes_delta = rel_x + rel_y\n",
    "\n",
    "abs(np.std(täpne_delta) - np.std(umbes_delta))"
   ]
  },
  {
   "cell_type": "markdown",
   "id": "89b5d7ed",
   "metadata": {},
   "source": [
    "## Jagatise relatiivse vea omadus\n",
    "\n",
    "Osutub, et jagatise puhul on vea edasikandumine natukene keerulisem.\n",
    "Mõningatel eeldustel on leitav piisavalt täpne hinnang jagatise relatiivse vea kohta.\n",
    "\n",
    "Olgu $x=x_0+\\varepsilon_x$ ning $y=y_0+\\varepsilon_y$, kus $\\varepsilon_x\\sim\\mathcal{N}(0, \\sigma_x)$ ja $\\varepsilon_x\\sim\\mathcal{N}(0, \\sigma_y)$ on sõltumatud.\n",
    "Suuruste $x$ ja $y$ jagatise relatiivne viga avaldub kujul\n",
    "\\begin{equation*}\n",
    "    \\delta=\\frac{\\frac{x}{y}-\\frac{x_0}{y_0}}{\\frac{x_0}{y_0}}=\\frac{x\\cdot y_0}{y\\cdot x_0}-1=\\frac{y_0}{x_0}\\cdot\\frac{x_0+\\varepsilon_x}{y_0+\\varepsilon_y}-1 \\enspace.\n",
    "\\end{equation*}\n",
    "Jagatise relatiivse vea dispersiooni leidmist saab taandada korrutise relatiivse vea dispersioonile, sest $\\frac{x}{y}=x\\cdot y^{-1}$.\n",
    "Seega on vaja hinnata suuruse $y$ pöördväärtuse disperisooni.\n",
    "Taylori arenduse põhjal \n",
    "\\begin{equation}\n",
    "    \\label{eq:1/y taylori arendus}\n",
    "    \\frac{1}{y}=\\frac{1}{y_0+\\varepsilon_y}\\approx\\frac{1}{y_0}-\\frac{1}{y_0^2}\\cdot\\varepsilon_y \\enspace.\n",
    "\\end{equation}\n",
    "Eeldusel, et $y$ relatiivne viga on väike, on ka Taylori arenduse jääkliige väike.\n",
    "Vahetulemuse (\\ref{eq:1/y taylori arendus}) abil saab hinnata $y$ pöördväärtuse relatiivse vea dispersiooni\n",
    "\\begin{align*}\n",
    "    \\variance{\\frac{\\frac{1}{y}-\\frac{1}{y_0}}{\\frac{1}{y_0}}}&=\\variance{\\frac{y_0}{y}}=y_0^2\\cdot\\variance{\\frac{1}{y}}\\\\\n",
    "    &=y_0^2\\cdot\\left(\\mean{\\left(\\frac{1}{y}\\right)^2}-\\mean{\\frac{1}{y}}^2\\right) \\\\\n",
    "    &\\approx y_0^2\\cdot\\left(\\mean{\\left(\\frac{1}{y_0}-\\frac{1}{y_0^2}\\cdot\\varepsilon_y\\right)^2}-\\mean{\\frac{1}{y_0}-\\frac{1}{y_0^2}\\cdot\\varepsilon_y}^2\\right) \\\\\n",
    "    &=y_0^2\\cdot\\left(\\frac{1}{y_0^2}+\\frac{\\sigma_y^2}{y_0^4}-\\frac{1}{y_0^2}\\right)=y_0^2\\cdot\\frac{\\sigma_y^2}{y_0^4}=\\variance{\\frac{\\varepsilon_y}{y_0}} \\enspace.\n",
    "\\end{align*}\n",
    "Osutub, et kasutades $y^{-1}$ lähendamiseks Taylori arenduse esimest kahte liiget, on selle relatiivse vea dispersioon ligikaud võrdne lihtsalt $y$ relatiivse vea dispersiooniga.\n",
    "Seega avaldub jagatise relatiivse vea dispersioon ligkaudu samamoodi nagu korrutise puhul\n",
    "\\begin{equation*}\n",
    "    \\variance{\\delta}\\approx\\variance{\\frac{\\varepsilon_x}{x_0}}+\\variance{\\frac{\\varepsilon_y}{y_0}}+\\variance{\\frac{\\varepsilon_x}{x_0}}\\cdot\\variance{\\frac{\\varepsilon_y}{y_0}}\\approx\\variance{\\frac{\\varepsilon_x}{x_0}}+\\variance{\\frac{\\varepsilon_y}{y_0}} \\enspace.\n",
    "\\end{equation*}"
   ]
  },
  {
   "cell_type": "code",
   "execution_count": 3,
   "id": "c64f3782",
   "metadata": {},
   "outputs": [
    {
     "name": "stdout",
     "output_type": "stream",
     "text": [
      "0.0644375458595992\n",
      "0.06406546987374379\n",
      "0.06390017471870688\n"
     ]
    },
    {
     "name": "stderr",
     "output_type": "stream",
     "text": [
      "C:\\Users\\Mart\\anaconda3\\lib\\site-packages\\plotnine\\stats\\stat_bin.py:95: PlotnineWarning: 'stat_bin()' using 'bins = 330'. Pick better value with 'binwidth'.\n"
     ]
    },
    {
     "data": {
      "image/png": "[encoded data removed]",
      "text/plain": [
       "<Figure size 640x480 with 1 Axes>"
      ]
     },
     "metadata": {},
     "output_type": "display_data"
    },
    {
     "data": {
      "text/plain": [
       "<ggplot: (80422030623)>"
      ]
     },
     "execution_count": 3,
     "metadata": {},
     "output_type": "execute_result"
    }
   ],
   "source": [
    "n = 100\n",
    "y_0 = 0.8\n",
    "\n",
    "sigma_y = np.sqrt((1 - y_0) * y_0 / n)\n",
    "epsilon_y = norm.rvs(0, sigma_y, 250)\n",
    "\n",
    "y = 1 / (y_0 + epsilon_y)\n",
    "y_taylor2 = 1 / y_0 - epsilon_y / (y_0 ** 2)\n",
    "y_taylor3 = 1 / y_0 - epsilon_y / (y_0 ** 2) + (epsilon_y ** 2) / (y_0 ** 3)\n",
    "\n",
    "rel_viga_t2 = (y_taylor2 - y) / y\n",
    "rel_viga_t3 = (y_taylor3 - y) / y\n",
    "\n",
    "print(np.std(y))\n",
    "print(np.std(y_taylor2))\n",
    "print(np.std(y_taylor3))\n",
    "\n",
    "(\n",
    "    ggplot() + aes(x='rel_viga_t3') + geom_histogram()\n",
    ")"
   ]
  }
 ],
 "metadata": {
  "kernelspec": {
   "display_name": "Python 3 (ipykernel)",
   "language": "python",
   "name": "python3"
  },
  "language_info": {
   "codemirror_mode": {
    "name": "ipython",
    "version": 3
   },
   "file_extension": ".py",
   "mimetype": "text/x-python",
   "name": "python",
   "nbconvert_exporter": "python",
   "pygments_lexer": "ipython3",
   "version": "3.8.16"
  }
 },
 "nbformat": 4,
 "nbformat_minor": 5
}
